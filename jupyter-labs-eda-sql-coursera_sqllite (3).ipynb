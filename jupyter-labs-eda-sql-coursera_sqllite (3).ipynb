{
  "metadata": {
    "kernelspec": {
      "name": "python",
      "display_name": "Python (Pyodide)",
      "language": "python"
    },
    "language_info": {
      "codemirror_mode": {
        "name": "python",
        "version": 3
      },
      "file_extension": ".py",
      "mimetype": "text/x-python",
      "name": "python",
      "nbconvert_exporter": "python",
      "pygments_lexer": "ipython3",
      "version": "3.8"
    }
  },
  "nbformat_minor": 4,
  "nbformat": 4,
  "cells": [
    {
      "cell_type": "markdown",
      "source": "<p style=\"text-align:center\">\n    <a href=\"https://skills.network\" target=\"_blank\">\n    <img src=\"https://cf-courses-data.s3.us.cloud-object-storage.appdomain.cloud/assets/logos/SN_web_lightmode.png\" width=\"200\" alt=\"Skills Network Logo\">\n    </a>\n</p>\n\n<h1 align=center><font size = 5>Assignment: SQL Notebook for Peer Assignment</font></h1>\n\nEstimated time needed: **60** minutes.\n\n## Introduction\nUsing this Python notebook you will:\n\n1.  Understand the Spacex DataSet\n2.  Load the dataset  into the corresponding table in a Db2 database\n3.  Execute SQL queries to answer assignment questions \n",
      "metadata": {}
    },
    {
      "cell_type": "markdown",
      "source": "## Overview of the DataSet\n\nSpaceX has gained worldwide attention for a series of historic milestones. \n\nIt is the only private company ever to return a spacecraft from low-earth orbit, which it first accomplished in December 2010.\nSpaceX advertises Falcon 9 rocket launches on its website with a cost of 62 million dollars wheras other providers cost upward of 165 million dollars each, much of the savings is because Space X can reuse the first stage. \n\n\nTherefore if we can determine if the first stage will land, we can determine the cost of a launch. \n\nThis information can be used if an alternate company wants to bid against SpaceX for a rocket launch.\n\nThis dataset includes a record for each payload carried during a SpaceX mission into outer space.\n",
      "metadata": {}
    },
    {
      "cell_type": "markdown",
      "source": "### Download the datasets\n\nThis assignment requires you to load the spacex dataset.\n\nIn many cases the dataset to be analyzed is available as a .CSV (comma separated values) file, perhaps on the internet. Click on the link below to download and save the dataset (.CSV file):\n\n <a href=\"https://cf-courses-data.s3.us.cloud-object-storage.appdomain.cloud/IBM-DS0321EN-SkillsNetwork/labs/module_2/data/Spacex.csv\" target=\"_blank\">Spacex DataSet</a>\n\n",
      "metadata": {}
    },
    {
      "cell_type": "code",
      "source": "!pip install sqlalchemy==1.3.9\n",
      "metadata": {},
      "outputs": [],
      "execution_count": null
    },
    {
      "cell_type": "markdown",
      "source": "### Connect to the database\n\nLet us first load the SQL extension and establish a connection with the database\n",
      "metadata": {}
    },
    {
      "cell_type": "code",
      "source": "%load_ext sql",
      "metadata": {},
      "outputs": [],
      "execution_count": null
    },
    {
      "cell_type": "code",
      "source": "import csv, sqlite3\n\ncon = sqlite3.connect(\"my_data1.db\")\ncur = con.cursor()",
      "metadata": {},
      "outputs": [],
      "execution_count": null
    },
    {
      "cell_type": "code",
      "source": "!pip install -q pandas==1.1.5",
      "metadata": {},
      "outputs": [],
      "execution_count": null
    },
    {
      "cell_type": "code",
      "source": "%sql sqlite:///my_data1.db",
      "metadata": {},
      "outputs": [],
      "execution_count": null
    },
    {
      "cell_type": "code",
      "source": "import pandas as pd\ndf = pd.read_csv(\"https://cf-courses-data.s3.us.cloud-object-storage.appdomain.cloud/IBM-DS0321EN-SkillsNetwork/labs/module_2/data/Spacex.csv\")\ndf.to_sql(\"SPACEXTBL\", con, if_exists='replace', index=False,method=\"multi\")",
      "metadata": {},
      "outputs": [],
      "execution_count": null
    },
    {
      "cell_type": "markdown",
      "source": "**Note:This below code is added to remove blank rows from table**\n",
      "metadata": {}
    },
    {
      "cell_type": "code",
      "source": "%sql create table SPACEXTABLE as select * from SPACEXTBL where Date is not null",
      "metadata": {},
      "outputs": [],
      "execution_count": null
    },
    {
      "cell_type": "markdown",
      "source": "## Tasks\n\nNow write and execute SQL queries to solve the assignment tasks.\n\n**Note: If the column names are in mixed case enclose it in double quotes\n   For Example \"Landing_Outcome\"**\n\n### Task 1\n\n\n\n\n##### Display the names of the unique launch sites  in the space mission\n",
      "metadata": {}
    },
    {
      "cell_type": "code",
      "source": "%Sql display name_unique_launch_sites \nselect from space mission\n     WHERE launch_sites\n     NAME OF UNIQUE LAUNCH SITE\n       CCAFS SLC-40\n       VAFB SCL 4E\n       KSC LC 39A\n       CCAF SLC-40",
      "metadata": {},
      "outputs": [],
      "execution_count": null
    },
    {
      "cell_type": "markdown",
      "source": "\n### Task 2\n\n\n#####  Display 5 records where launch sites begin with the string 'CCA' \n",
      "metadata": {}
    },
    {
      "cell_type": "code",
      "source": "CCAFSLC-40 - Dragon spacecraft Qualification Unit\nCCAFSLC-40 - Dragon demo flight C1,two cubesats, barell of Brouere\nCCAFSLC-40 - Dragon demo flight C2\nCCAFS LC-40 - SpaceXCR 1\nCCAFS LC-40 - spaceXCR 2\n",
      "metadata": {},
      "outputs": [],
      "execution_count": null
    },
    {
      "cell_type": "markdown",
      "source": "### Task 3\n\n\n\n\n##### Display the total payload mass carried by boosters launched by NASA (CRS)\n",
      "metadata": {}
    },
    {
      "cell_type": "code",
      "source": "%sql SELECT SUM of Payloadmass AS SUM_OF_PAYLOADMASS\n  FROM BOOSTER VERSION WHERE NASA(CRS);\n    \nOutput= 45596\n       \n    ",
      "metadata": {},
      "outputs": [],
      "execution_count": null
    },
    {
      "cell_type": "markdown",
      "source": "### Task 4\n\n\n\n\n##### Display average payload mass carried by booster version F9 v1.1\n",
      "metadata": {}
    },
    {
      "cell_type": "code",
      "source": "%sql SELECT AVG(COST) FROM PAYLOADMASS FROM BOOSTER_VERSION F9V1.1\n \noutput= 2928.4",
      "metadata": {},
      "outputs": [],
      "execution_count": null
    },
    {
      "cell_type": "markdown",
      "source": "### Task 5\n\n##### List the date when the first succesful landing outcome in ground pad was acheived.\n\n\n_Hint:Use min function_ \n",
      "metadata": {
        "tags": []
      }
    },
    {
      "cell_type": "code",
      "source": "%sql SELECT DAY(SUCESSFUL)  FROM LANDING_OUTCOME WHERE GROUND PAD  \n \n 12/22/2015",
      "metadata": {},
      "outputs": [],
      "execution_count": null
    },
    {
      "cell_type": "markdown",
      "source": "### Task 6\n\n##### List the names of the boosters which have success in drone ship and have payload mass greater than 4000 but less than 6000\n",
      "metadata": {}
    },
    {
      "cell_type": "code",
      "source": "SELECT NAME FROM BOOSTER_NAME  WHERE landing_sucess, PAYLOAD_MASS GREATER>=4000 AND LESS< =6000\n\n         BOOSTER                \n       F9FTBIO22             \n       F9FTBI026\n       F9FTB1021.2\n       F9FTB1031.2\n   ",
      "metadata": {},
      "outputs": [],
      "execution_count": null
    },
    {
      "cell_type": "markdown",
      "source": "### Task 7\n\n\n\n\n##### List the total number of successful and failure mission outcomes\n",
      "metadata": {}
    },
    {
      "cell_type": "code",
      "source": "%sql SELECT *COUNT MISSION_OUTCOME AS TOTAL_NUMBER\n FROM SPATEX_DATASET,\nWHERE MISSION_OUTCOME IN('SUCESS','FAILURE')\nGROUP BY MISSION_OUTCOME\n\ncorrect answer=102\n                mission_outcome     count\n          0       success            100\n          1       failure             1",
      "metadata": {},
      "outputs": [],
      "execution_count": null
    },
    {
      "cell_type": "markdown",
      "source": "### Task 8\n\n\n\n##### List the   names of the booster_versions which have carried the maximum payload mass. Use a subquery\n",
      "metadata": {}
    },
    {
      "cell_type": "code",
      "source": "%sql SELECT BOOSTER_VERSION \n      FROM SPATEX  \n    WHERE PAYLOAD_MASS =(SELECT MAX(PAYLOAD_MASS)\n     FROM SPATEX\n    );  \n     BoosterVersion\n   0 F9B5 b1048.4\n   1 F9B5 B1049.4\n   2 F9B5 B1051.3\n   3 F9B5 B1056.4\n   4 F9B5 B1048.5\n   5 F9B5 B1051.4\n   6 F9B5 B1049.5\n   7 F9B5 B1060.2\n   8 F9B5 B1058.3\n   9 F9B5 B1051.6\n  10 F9B5 B1060.3\n  11 F9B5 B1049.7",
      "metadata": {},
      "outputs": [],
      "execution_count": null
    },
    {
      "cell_type": "markdown",
      "source": "### Task 9\n\n\n##### List the records which will display the month names, failure landing_outcomes in drone ship ,booster versions, launch_site for the months in year 2015.\n\n**Note: SQLLite does not support monthnames. So you need to use  substr(Date, 6,2) as month to get the months and substr(Date,0,5)='2015' for year.**\n",
      "metadata": {}
    },
    {
      "cell_type": "code",
      "source": "SQL SELECT MOUTH \n    FROM LANDING_DATE AS SUBSTR(DATE,0,5)='2015'FOR YEAR\n    WHEN LANDING_OUTCOME='FAILURE' THEN 'DRONE\n    \n    \n     landing_outcome     boosterversions     launchsites\n    0 failure(drone-ship)    F9v1.B1010        CCAFS LC 40\n    1  Failure(drone-ship)   F9v1.B1012        CCAFS LC40\n    2 Failure(drone-ship)    F9v1.B1017         VAFB SLC 4E\n    3 Failure (drone-ship)   F9FTB1020         CCAFS LC 40\n    4 Faiure(drone-ship)     F9FTB1024         CCAFS LC-40",
      "metadata": {},
      "outputs": [],
      "execution_count": null
    },
    {
      "cell_type": "markdown",
      "source": "### Task 10\n\n\n\n\n##### Rank the count of landing outcomes (such as Failure (drone ship) or Success (ground pad)) between the date 2010-06-04 and 2017-03-20, in descending order.\n",
      "metadata": {}
    },
    {
      "cell_type": "code",
      "source": "SELECT COUNT(*)LANDING_OUTCOME,\nFROM SPATEX WHEREE DATE BETWEEN'2010-06-04' AND '2017-03-20'\nGROUP BY LANDING_OUTCOME \nORDER BY COUNT OF OUTCOME DESC;\n\n   Landing_outcome \n0    No attempt         10\n1    Success(drone-ship)  5\n2    Failure(drone ship) 5\n3    Success(ground pad) 3 \n4    controlled(ocean)   3\n5   uncontrolled(ocean)  2\n6   precluded(drone-ship) 1\n  \n",
      "metadata": {},
      "outputs": [],
      "execution_count": null
    },
    {
      "cell_type": "markdown",
      "source": "### Reference Links\n\n* <a href =\"https://cf-courses-data.s3.us.cloud-object-storage.appdomain.cloud/IBMDeveloperSkillsNetwork-DB0201EN-SkillsNetwork/labs/Labs_Coursera_V5/labs/Lab%20-%20String%20Patterns%20-%20Sorting%20-%20Grouping/instructional-labs.md.html?origin=www.coursera.org\">Hands-on Lab : String Patterns, Sorting and Grouping</a>  \n\n*  <a  href=\"https://cf-courses-data.s3.us.cloud-object-storage.appdomain.cloud/IBMDeveloperSkillsNetwork-DB0201EN-SkillsNetwork/labs/Labs_Coursera_V5/labs/Lab%20-%20Built-in%20functions%20/Hands-on_Lab__Built-in_Functions.md.html?origin=www.coursera.org\">Hands-on Lab: Built-in functions</a>\n\n*  <a  href=\"https://cf-courses-data.s3.us.cloud-object-storage.appdomain.cloud/IBMDeveloperSkillsNetwork-DB0201EN-SkillsNetwork/labs/Labs_Coursera_V5/labs/Lab%20-%20Sub-queries%20and%20Nested%20SELECTs%20/instructional-labs.md.html?origin=www.coursera.org\">Hands-on Lab : Sub-queries and Nested SELECT Statements</a>\n\n*   <a href=\"https://cf-courses-data.s3.us.cloud-object-storage.appdomain.cloud/IBMDeveloperSkillsNetwork-DB0201EN-SkillsNetwork/labs/Module%205/DB0201EN-Week3-1-3-SQLmagic.ipynb\">Hands-on Tutorial: Accessing Databases with SQL magic</a>\n\n*  <a href= \"https://cf-courses-data.s3.us.cloud-object-storage.appdomain.cloud/IBMDeveloperSkillsNetwork-DB0201EN-SkillsNetwork/labs/Module%205/DB0201EN-Week3-1-4-Analyzing.ipynb\">Hands-on Lab: Analyzing a real World Data Set</a>\n\n\n",
      "metadata": {}
    },
    {
      "cell_type": "markdown",
      "source": "## Author(s)\n\n<h4> Lakshmi Holla </h4>\n",
      "metadata": {}
    },
    {
      "cell_type": "markdown",
      "source": "## Other Contributors\n\n<h4> Rav Ahuja </h4>\n",
      "metadata": {}
    },
    {
      "cell_type": "markdown",
      "source": "## Change log\n| Date | Version | Changed by | Change Description |\n|------|--------|--------|---------|\n| 2021-07-09 | 0.2 |Lakshmi Holla | Changes made in magic sql|\n| 2021-05-20 | 0.1 |Lakshmi Holla | Created Initial Version |\n",
      "metadata": {}
    },
    {
      "cell_type": "markdown",
      "source": "## <h3 align=\"center\"> © IBM Corporation 2021. All rights reserved. <h3/>\n",
      "metadata": {}
    }
  ]
}